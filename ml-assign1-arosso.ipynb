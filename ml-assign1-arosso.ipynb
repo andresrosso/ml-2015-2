{
 "cells": [
  {
   "cell_type": "markdown",
   "metadata": {},
   "source": [
    "# Assignment 1: Linear Algebra and Probability\n",
    "Andrés Rosso\n",
    "andresrosso@gmail.com"
   ]
  },
  {
   "cell_type": "markdown",
   "metadata": {},
   "source": [
    "Let D = {d1, . . . , dn} be a set of documents and T = {t1, . . . , tm} a set of terms (words). Let\n",
    "T D = (T Di,j )i=1...m,j=1...n be a matrix such that T Di,j corresponds to the number of times\n",
    "the term ti appears in the document dj . Also, let li be the length, number of characters,\n",
    "of term ti\n",
    ", and let L = (l1, . . . , lm) be a column vector. Finally, assume a process where a\n",
    "document dj is randomly chosen with uniform probability and then a term ti\n",
    ", present in dj ,\n",
    "is randomly chosen with a probability proportional to the frequency of ti\n",
    "in dj."
   ]
  },
  {
   "cell_type": "markdown",
   "metadata": {},
   "source": [
    "## Define Objects to Work"
   ]
  },
  {
   "cell_type": "code",
   "execution_count": 12,
   "metadata": {
    "collapsed": false
   },
   "outputs": [
    {
     "name": "stdout",
     "output_type": "stream",
     "text": [
      "[[2 3 0 3 7]\n",
      " [0 5 5 0 3]\n",
      " [5 0 7 3 3]\n",
      " [3 1 0 9 9]\n",
      " [0 0 7 1 3]\n",
      " [6 9 4 6 0]]\n"
     ]
    }
   ],
   "source": [
    "import numpy as np\n",
    "\n",
    "np.seterr(divide='ignore', invalid='ignore')\n",
    "# Let TD = (T Di,j )i=1...m,j=1...n be a matrix \n",
    "# such that T Di,j corresponds to the number of times the term ti appears in the document dj \n",
    "TD = np.matrix('2 3 0 3 7; 0 5 5 0 3; 5 0 7 3 3; 3 1 0 9 9; 0 0 7 1 3; 6 9 4 6 0')\n",
    "print(TD)"
   ]
  },
  {
   "cell_type": "code",
   "execution_count": 13,
   "metadata": {
    "collapsed": false
   },
   "outputs": [
    {
     "name": "stdout",
     "output_type": "stream",
     "text": [
      "[[5]\n",
      " [2]\n",
      " [3]\n",
      " [6]\n",
      " [4]\n",
      " [3]]\n"
     ]
    }
   ],
   "source": [
    "# let li be the length, number of characters, of term ti, and \n",
    "# let L = (l1, . . . , lm) be a column vector.\n",
    "L = np.matrix('5; 2; 3; 6; 4; 3')\n",
    "print(L)"
   ]
  },
  {
   "cell_type": "markdown",
   "metadata": {},
   "source": [
    "## a. Joint Probability of T and D\n",
    "\n",
    "* Matrix P(T, D) (each position of the matrix, P(T, D)i,j , corresponds to the joint probability\n",
    "of term ti and document dj , P(ti\n",
    ", dj ))\n",
    "\n",
    "The procedure to solve this point is:\n",
    "\n",
    "* Calculate the probability of get a document d, as d is uniform, the probaility is $$P(D=d)=1/m$$\n",
    "* Calculate the probability if get a term j in a document d, is proportional to the frecuency so: \n",
    "$$ P(T=t_{i,j})=f_{t_{i}}/S_{t}$$\n",
    "$$ f_{t_{i}}:  frecuency\\,  of\\,  term \\, (i) \\, in \\, document\\,  (j)$$\n",
    "$$ S_{t}: \\, =\\,  number \\, of \\, terms\\,  in\\,  document\\,  (j)\\,$$\n",
    "* Calculate the  matrix that will divide the original matrix to obtain the joing probability matrix\n",
    "$$ St = TD'I_{mxm}(1/5)$$\n",
    "* Make the Matrix previously opbtaine a diagonal matrix\n",
    "$$D=\\sum_{i}^{1}IS_{1,t}$$\n",
    "* Multiply St and TD\n",
    "$$PTyD = TD*S_{t}$$"
   ]
  },
  {
   "cell_type": "code",
   "execution_count": 15,
   "metadata": {
    "collapsed": false
   },
   "outputs": [
    {
     "name": "stdout",
     "output_type": "stream",
     "text": [
      "[[ 0.0625      0.          0.          0.          0.        ]\n",
      " [ 0.          0.05555556  0.          0.          0.        ]\n",
      " [ 0.          0.          0.04347826  0.          0.        ]\n",
      " [ 0.          0.          0.          0.04545455  0.        ]\n",
      " [ 0.          0.          0.          0.          0.04      ]]\n"
     ]
    }
   ],
   "source": [
    "     #Counting the number of terms in each document D\n",
    "     St = TD.transpose()*np.matrix('1; 1; 1; 1; 1; 1')\n",
    "     #Making the sum of terms a diagonal matrix\n",
    "     divMtx = np.identity(5)/np.diag(St.A1)\n",
    "     divMtx[np.isnan(divMtx)] = 0\n",
    "     print(divMtx)"
   ]
  },
  {
   "cell_type": "code",
   "execution_count": 16,
   "metadata": {
    "collapsed": false
   },
   "outputs": [
    {
     "name": "stdout",
     "output_type": "stream",
     "text": [
      "[[ 0.025       0.03333333  0.          0.02727273  0.056     ]\n",
      " [ 0.          0.05555556  0.04347826  0.          0.024     ]\n",
      " [ 0.0625      0.          0.06086957  0.02727273  0.024     ]\n",
      " [ 0.0375      0.01111111  0.          0.08181818  0.072     ]\n",
      " [ 0.          0.          0.06086957  0.00909091  0.024     ]\n",
      " [ 0.075       0.1         0.03478261  0.05454545  0.        ]]\n"
     ]
    }
   ],
   "source": [
    "    #Get the joint probability matrix P(T,D)\n",
    "    PTyD = TD*divMtx\n",
    "    PTyD = PTyD*(1/5)\n",
    "    print(PTyD)"
   ]
  },
  {
   "cell_type": "markdown",
   "metadata": {},
   "source": [
    "### Check the solution"
   ]
  },
  {
   "cell_type": "markdown",
   "metadata": {},
   "source": [
    "$$f(x_{i},y_{j}) > 0$$\n",
    "$$\\sum_{x}^{i} \\sum_{y}^{j} f(x_{i},y_{j}) = 1$$"
   ]
  },
  {
   "cell_type": "code",
   "execution_count": 17,
   "metadata": {
    "collapsed": false
   },
   "outputs": [
    {
     "data": {
      "text/plain": [
       "1.0"
      ]
     },
     "execution_count": 17,
     "metadata": {},
     "output_type": "execute_result"
    }
   ],
   "source": [
    "    PTyD.sum()"
   ]
  },
  {
   "cell_type": "markdown",
   "metadata": {
    "collapsed": true
   },
   "source": [
    "## b. Matrix P(T|D)\n",
    "\n"
   ]
  },
  {
   "cell_type": "markdown",
   "metadata": {},
   "source": [
    "$$ P(T|D)=\\frac{P(TD)}{P(D)} $$\n"
   ]
  },
  {
   "cell_type": "code",
   "execution_count": 18,
   "metadata": {
    "collapsed": false
   },
   "outputs": [
    {
     "name": "stdout",
     "output_type": "stream",
     "text": [
      "[[ 0.125       0.16666667  0.          0.13636364  0.28      ]\n",
      " [ 0.          0.27777778  0.2173913   0.          0.12      ]\n",
      " [ 0.3125      0.          0.30434783  0.13636364  0.12      ]\n",
      " [ 0.1875      0.05555556  0.          0.40909091  0.36      ]\n",
      " [ 0.          0.          0.30434783  0.04545455  0.12      ]\n",
      " [ 0.375       0.5         0.17391304  0.27272727  0.        ]]\n"
     ]
    }
   ],
   "source": [
    "     PD = PTyD.transpose()*np.matrix('1; 1; 1; 1; 1; 1')\n",
    "     PT = PTyD*np.matrix('1; 1; 1; 1; 1')\n",
    "     divPD = np.identity(5)/np.diag(PD.A1)\n",
    "     divPD[np.isnan(divPD)] = 0\n",
    "     P_T_DADO_D = (PTyD*divPD)\n",
    "     print(P_T_DADO_D)"
   ]
  },
  {
   "cell_type": "markdown",
   "metadata": {},
   "source": [
    "## c. Matrix P(D|T)\n",
    "$$ P(D|T)=\\frac{P(TD)}{P(T)} $$"
   ]
  },
  {
   "cell_type": "code",
   "execution_count": 19,
   "metadata": {
    "collapsed": false
   },
   "outputs": [
    {
     "name": "stdout",
     "output_type": "stream",
     "text": [
      "[[ 0.17654612  0.23539482  0.          0.19259576  0.3954633 ]\n",
      " [ 0.          0.45154704  0.35338464  0.          0.19506832]\n",
      " [ 0.35787437  0.          0.34853851  0.15616336  0.13742376]\n",
      " [ 0.18524987  0.05488885  0.          0.40418153  0.35567975]\n",
      " [ 0.          0.          0.64782097  0.09675248  0.25542655]\n",
      " [ 0.28373832  0.37831776  0.13158879  0.20635514  0.        ]]\n"
     ]
    }
   ],
   "source": [
    "     divPT = np.identity(6)/np.diag(PT.A1)\n",
    "     divPT[np.isnan(divPT)] = 0\n",
    "     P_D_DADO_T = (PTyD.transpose()*divPT).transpose()\n",
    "     print(P_D_DADO_T)"
   ]
  },
  {
   "cell_type": "markdown",
   "metadata": {},
   "source": [
    "## d. Matrix P(D)\n",
    "\n",
    "Marginal distribution of D: Is the probabilities of various values of the variables D in the subset without reference to \n",
    "the values of the other variable T.\n",
    "\n",
    "$$ P(D) $$"
   ]
  },
  {
   "cell_type": "code",
   "execution_count": 25,
   "metadata": {
    "collapsed": false
   },
   "outputs": [
    {
     "name": "stdout",
     "output_type": "stream",
     "text": [
      "[[ 0.2]\n",
      " [ 0.2]\n",
      " [ 0.2]\n",
      " [ 0.2]\n",
      " [ 0.2]]\n"
     ]
    }
   ],
   "source": [
    "print(PD)"
   ]
  },
  {
   "cell_type": "markdown",
   "metadata": {},
   "source": [
    "## e. Matrix P(T)\n",
    "\n",
    "Marginal distribution of T: Is the probabilities of various values of the variables T in the subset without reference to \n",
    "the values of the other variable D.\n",
    "\n",
    "$$ P(T) $$"
   ]
  },
  {
   "cell_type": "code",
   "execution_count": 27,
   "metadata": {
    "collapsed": false
   },
   "outputs": [
    {
     "name": "stdout",
     "output_type": "stream",
     "text": [
      "[[ 0.14160606]\n",
      " [ 0.12303382]\n",
      " [ 0.17464229]\n",
      " [ 0.20242929]\n",
      " [ 0.09396047]\n",
      " [ 0.26432806]]\n"
     ]
    }
   ],
   "source": [
    "print(PT)"
   ]
  },
  {
   "cell_type": "markdown",
   "metadata": {},
   "source": [
    "##f. E(l)\n",
    "\n",
    "$$E[L]=\\sum_{i=1}^{\\alpha }x_{_i}p_{_{i}}$$\n"
   ]
  },
  {
   "cell_type": "code",
   "execution_count": 29,
   "metadata": {
    "collapsed": false
   },
   "outputs": [
    {
     "name": "stdout",
     "output_type": "stream",
     "text": [
      "3.86142665788\n"
     ]
    }
   ],
   "source": [
    "     diagL = np.identity(6)*np.diag(L.A1)\n",
    "     diagL[np.isnan(diagL)] = 0\n",
    "     EL = PT.transpose()*diagL\n",
    "     print(  EL.sum())"
   ]
  },
  {
   "cell_type": "markdown",
   "metadata": {},
   "source": [
    "##g. Var(l)\n",
    "$$Var(l)=\\frac{1}{n}\\sum_{i=1}^{n}p_{i}\\cdot (x_{i}-\\mu )^{2}$$"
   ]
  },
  {
   "cell_type": "code",
   "execution_count": 30,
   "metadata": {
    "collapsed": false
   },
   "outputs": [
    {
     "name": "stdout",
     "output_type": "stream",
     "text": [
      "1.80555555556\n"
     ]
    }
   ],
   "source": [
    "    varL = np.var(L)\n",
    "    print(varL)"
   ]
  },
  {
   "cell_type": "code",
   "execution_count": null,
   "metadata": {
    "collapsed": true
   },
   "outputs": [],
   "source": []
  }
 ],
 "metadata": {
  "kernelspec": {
   "display_name": "Python 3",
   "language": "python",
   "name": "python3"
  },
  "language_info": {
   "codemirror_mode": {
    "name": "ipython",
    "version": 3
   },
   "file_extension": ".py",
   "mimetype": "text/x-python",
   "name": "python",
   "nbconvert_exporter": "python",
   "pygments_lexer": "ipython3",
   "version": "3.4.3"
  }
 },
 "nbformat": 4,
 "nbformat_minor": 0
}
