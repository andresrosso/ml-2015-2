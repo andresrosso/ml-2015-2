{
 "cells": [
  {
   "cell_type": "markdown",
   "metadata": {},
   "source": [
    "# Assignment 1: Linear Algebra and Probability\n",
    "Andrés Rosso\n",
    "andresrosso@gmail.com"
   ]
  },
  {
   "cell_type": "markdown",
   "metadata": {},
   "source": [
    "<b>Consider the following neural network</b>\n",
    "\n",
    "<img src=\"ann.png\" />"
   ]
  },
  {
   "cell_type": "markdown",
   "metadata": {},
   "source": [
    "<b>Where </b>\n",
    "<li>$a_{i}=\\sum_{}^{j}w_{j}^{i}z_{j}$</li>\n",
    "<li>$z_{i} = f_{i}(a_{i})$</li>\n",
    "<li>$i = 1, 2, 3, 4$</li>\n",
    "<li>$z5 = a5\\; \\; (an\\; input\\; neuron)$</li>\n",
    "<li>$f_{2}(x) = relu(x)$</li>\n",
    "<li>$f_{1}(x) = f_{3}(x) = f_{4}(x) = sigmoid(x)$</li>\n",
    "<li><b>relu(x)</b> corresponds to a rectifier linear unit transfer function defined as:\n",
    "$relu(x) = \\left\\{\\begin{matrix}\n",
    "x\\; \\; if\\; \\; x ≥ 0 \\\\ \n",
    "0\\; \\; otherwise\n",
    "\\end{matrix}\\right.\n",
    "$\n",
    "</li>\n",
    "\n"
   ]
  },
  {
   "cell_type": "markdown",
   "metadata": {},
   "source": [
    "###Define Objects to Work With"
   ]
  },
  {
   "cell_type": "code",
   "execution_count": 60,
   "metadata": {
    "collapsed": false
   },
   "outputs": [],
   "source": [
    "import numpy as np\n",
    "\n",
    "a = [0, 0, 0, 0, 0]\n",
    "z = [0, 0, 0, 0, 0]\n",
    "Wa = [ [0, 0, 0, 0], [ 0, 0, 0, 0],  [0, 0,  0, 0],   [0, 0, 0, 0]   ]\n",
    "Wc = [ [3, 0, 0, 0], [-4, 1, 0, 0], [-1, -3, 0, 0],   [0, 0, 2, -10]]\n",
    "\n",
    "# sigmoid\n",
    "def sigmoid(x):\n",
    "    return 1/(1+np.exp(-x))\n",
    "\n",
    "# relu\n",
    "def relu(x):\n",
    "    if(x>=0):\n",
    "        return x\n",
    "    return 0\n",
    "\n",
    "# neuronal network\n",
    "def nn_evaluation(w, input_x):\n",
    "    #input layer\n",
    "    a[4] = z[4] = input_x\n",
    "    #intermediate layers\n",
    "    for i in range(len(a)-1):\n",
    "        for j in range(len(w)):\n",
    "            a[i] =+ w[j][i]\n",
    "        print(a[i])\n",
    "    for i in range(len(z)-2 , -1, -1):\n",
    "        z[i] = 1"
   ]
  },
  {
   "cell_type": "markdown",
   "metadata": {},
   "source": [
    "(a) Write a function to simulate the neural network."
   ]
  },
  {
   "cell_type": "code",
   "execution_count": 61,
   "metadata": {
    "collapsed": false
   },
   "outputs": [
    {
     "name": "stdout",
     "output_type": "stream",
     "text": [
      "[0, 0, 0, 0, 0]\n",
      "0\n",
      "0\n",
      "2\n",
      "-10\n"
     ]
    }
   ],
   "source": [
    "print(a)\n",
    "nn_evaluation(Wc, 2)"
   ]
  },
  {
   "cell_type": "code",
   "execution_count": 36,
   "metadata": {
    "collapsed": false
   },
   "outputs": [
    {
     "data": {
      "text/plain": [
       "[0, 0, 0, 0, 2]"
      ]
     },
     "execution_count": 36,
     "metadata": {},
     "output_type": "execute_result"
    }
   ],
   "source": [
    "z"
   ]
  },
  {
   "cell_type": "code",
   "execution_count": null,
   "metadata": {
    "collapsed": true
   },
   "outputs": [],
   "source": []
  }
 ],
 "metadata": {
  "kernelspec": {
   "display_name": "Python 3",
   "language": "python",
   "name": "python3"
  },
  "language_info": {
   "codemirror_mode": {
    "name": "ipython",
    "version": 3
   },
   "file_extension": ".py",
   "mimetype": "text/x-python",
   "name": "python",
   "nbconvert_exporter": "python",
   "pygments_lexer": "ipython3",
   "version": "3.4.3"
  }
 },
 "nbformat": 4,
 "nbformat_minor": 0
}
